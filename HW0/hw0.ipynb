{
 "cells": [
  {
   "cell_type": "code",
   "execution_count": 41,
   "id": "positive-kentucky",
   "metadata": {},
   "outputs": [],
   "source": [
    "import numpy as np # mathmenatical operations\n",
    "from numpy.random import seed, randint, random \n",
    "from collections import Counter # useful tool for estimating distributions from experiments "
   ]
  },
  {
   "cell_type": "markdown",
   "id": "supported-mozambique",
   "metadata": {},
   "source": [
    "# CS 237L Summer 2 2021 \n",
    "### Homework 0\n",
    "### Due date: Thursday, July 15th,  11:59pm\n",
    "\n",
    "### Instructions\n",
    "- Complete the analytical problems  inside of this notebook. Feel free to ad cells as needed, but clearly mark which answer is for which question. \n",
    "- Complete the coding question and run the notebook to enusre the results are clearly visible in the output of the notebook\n",
    "\n",
    "### Gradescope Warnings\n",
    "- Please only use mathjax typesetting and markdown. Do not directly embed HTML content into this notebook as gradescope will *not* display it properly \n",
    "- Please run the notebook from start to finish before submiting it to gradescope \n",
    "- Do not answer questions with images embeded directly in the notebook, as Gradescope will not display them properly \n",
    "- All numerical values should use 4 digits of precision \n"
   ]
  },
  {
   "cell_type": "markdown",
   "id": "domestic-relationship",
   "metadata": {},
   "source": [
    "### Problem 0 \n",
    "\n",
    "Let $A=\\{ x : 5x = 25\\}$. Does $A=5$? Explain\n",
    "\n",
    "\n",
    "### Solution\n",
    "$A= \\{5\\}$ which is distinct from the number 5. "
   ]
  },
  {
   "cell_type": "markdown",
   "id": "endless-crack",
   "metadata": {},
   "source": [
    "### Problem 1 \n",
    "Which of these sets are equal? \n",
    "$$\\{a,b,c\\}, \\{c,a,b\\},\\{b,a,c\\} ?$$\n",
    "\n",
    "### Solution\n"
   ]
  },
  {
   "cell_type": "markdown",
   "id": "violent-prevention",
   "metadata": {},
   "source": [
    "### Problem 2\n",
    "\n",
    "Which of the sets are equal $$\\{0\\},  \\varnothing, \\{ \\varnothing\\} \\{ \\}$$\n",
    "\n",
    "### Solution\n"
   ]
  },
  {
   "cell_type": "markdown",
   "id": "assisted-pixel",
   "metadata": {},
   "source": [
    "### Problem 3\n",
    "Let $\\Omega $ Be the univerise of posssible outcomes for a random experiment (Sample Space). Suppose that $|\\Omega| = n$ for $n\\in \\mathbb{N}$. \n",
    "\n",
    "\n",
    "Prove that $$\\sum_{a\\in \\Omega}Pr(\\{a\\}) = 1$$ using the Kolmogorov Axioms of prboability \n",
    "\n",
    "\n",
    "## Solution\n"
   ]
  },
  {
   "cell_type": "markdown",
   "id": "regulation-cause",
   "metadata": {},
   "source": [
    "# Practice Problems (Required)\n",
    "Schaums Probability: \n",
    "- (solutions avaiable) 1.11, 1.12,1.13, 1.15,1.17, 1.18 (Feel free to use python to generate the answer), \n",
    "- 1.36, 1.37, 1.42, 1.50, "
   ]
  },
  {
   "cell_type": "markdown",
   "id": "cross-determination",
   "metadata": {},
   "source": [
    "# Getting Started with Data Visualization in Jupyter Notebooks\n",
    "\n",
    "In this homework, we will begin our study of probability in computing by exploring various ways of displaying data, especially data created by random processes. We shall use a library `numpy.random` (imported in the previous code cell) to generate random numbers and display the results.\n",
    "\n",
    "\n",
    "If you need a refresher on Python, please download and work through the `PythonForCS237.ipynb` notebook from the class web page in addition to this homework. "
   ]
  },
  {
   "cell_type": "code",
   "execution_count": 4,
   "id": "applicable-clone",
   "metadata": {},
   "outputs": [
    {
     "name": "stdout",
     "output_type": "stream",
     "text": [
      "\n",
      "Here is the list of points: [(1, 2), (2, 4), (3, 6), (4, 8)]\n",
      "They must be input to the function as separate lists, which must be the same length:\n",
      "\tX = [1, 2, 3, 4]\n",
      "\tY = [2, 4, 6, 8] \n",
      "\n"
     ]
    },
    {
     "data": {
      "image/png": "[encoded data removed]",
      "text/plain": [
       "<Figure size 432x288 with 1 Axes>"
      ]
     },
     "metadata": {
      "needs_background": "light"
     },
     "output_type": "display_data"
    }
   ],
   "source": [
    "# To plot the points (1,2), (2,4), (3,6), (4,8) we would list the x values and the corresponding y values:\n",
    "X = [1,2,3,4]\n",
    "Y = [2,4,6,8]\n",
    "\n",
    "print(\"\\nHere is the list of points:\",list(zip(X,Y)))\n",
    "print(\"They must be input to the function as separate lists, which must be the same length:\")\n",
    "print(\"\\tX =\",X)\n",
    "print(\"\\tY =\",Y,\"\\n\")\n",
    "plt.scatter(X,Y)\n",
    "plt.title('Graphing Points with scatter (X,Y)')\n",
    "plt.xlabel(\"The X Values\")\n",
    "plt.ylabel(\"The Y Values\")\n",
    "plt.show()\n",
    "\n"
   ]
  },
  {
   "cell_type": "markdown",
   "id": "thirty-tracker",
   "metadata": {},
   "source": [
    "### TODO (no credit, but don't skip this)\n",
    "\n",
    "Extend the previous example so that it plots the points `(5,10)` and `(6,12)` as well.  Just change the code in the previous cell. "
   ]
  },
  {
   "cell_type": "markdown",
   "id": "revised-wallace",
   "metadata": {},
   "source": [
    "## List Comprehensions\n",
    "\n",
    "A list comprehension is a great way to create lists with a minimum of fuss and bugs. \n",
    "The basic idea is that instead of creating a list by specifying every step, say like this:"
   ]
  },
  {
   "cell_type": "code",
   "execution_count": 5,
   "id": "sized-guinea",
   "metadata": {},
   "outputs": [
    {
     "name": "stdout",
     "output_type": "stream",
     "text": [
      "[1, 4, 9, 16, 25, 36, 49, 64, 81, 100]\n",
      "[1, 4, 9, 16, 25, 36, 49, 64, 81, 100]\n"
     ]
    }
   ],
   "source": [
    "# Create a list of the first 10 squares\n",
    "\n",
    "def f(x):\n",
    "    return (x + 1) ** 2\n",
    "\n",
    "L = [0] * 10         # create a list of 10 zeros\n",
    "for k in range(len(L)):\n",
    "    L[k] = f(k)\n",
    "    \n",
    "print(L)\n",
    "# you can do it all in one line:\n",
    "L1 = [  f(k) for k in range(len(L))  ]\n",
    "print(L1)"
   ]
  },
  {
   "cell_type": "markdown",
   "id": "liberal-football",
   "metadata": {},
   "source": [
    "The idea is to collect together all instances of the expression at the beginning, for all values of k produces\n",
    "by the (implicit) `for` loop. We will use list comprehensions throughout the course, and you should definitely become good friends with them, they will simplify your Python code!\n",
    "\n",
    "In the next two examples, we show more complicated kinds of list comprehensions, the first using a condition to filter the list, and in the second, using *two* for loops:"
   ]
  },
  {
   "cell_type": "code",
   "execution_count": 6,
   "id": "prepared-canberra",
   "metadata": {},
   "outputs": [
    {
     "name": "stdout",
     "output_type": "stream",
     "text": [
      "[0, 4, 16]\n"
     ]
    }
   ],
   "source": [
    "D = [0,1,2,3,4]\n",
    "\n",
    "# Just print out the squares of the even numbers\n",
    "\n",
    "print( [ d**2 for d in D if d % 2 == 0 ] )"
   ]
  },
  {
   "cell_type": "code",
   "execution_count": 7,
   "id": "prescribed-digit",
   "metadata": {},
   "outputs": [
    {
     "name": "stdout",
     "output_type": "stream",
     "text": [
      "['AA', 'AB', 'AC', 'AD', 'AE', 'BA', 'BB', 'BC', 'BD', 'BE', 'CA', 'CB', 'CC', 'CD', 'CE', 'DA', 'DB', 'DC', 'DD', 'DE', 'EA', 'EB', 'EC', 'ED', 'EE']\n"
     ]
    }
   ],
   "source": [
    "L = ['A','B','C','D','E']\n",
    "\n",
    "# Enumerate all two letter sequence of the letters in L\n",
    "\n",
    "print( [ l1 + l2 for l1 in L for l2 in L ] )"
   ]
  },
  {
   "cell_type": "markdown",
   "id": "configured-asbestos",
   "metadata": {},
   "source": [
    "# Plotting Lines and Curves\n",
    "\n",
    "If you call `plot(...)` instead of `scatter(...)` you will display a curve created by connecting the points with straight lines. Essentially you can only plot straight lines between points, but if the points are close together, you will not notice, and it will look like a smooth curve. \n",
    "\n",
    "Here we will use our first function from the `numpy` library, which allows you to create a linearly-spaced sequence of floating-point numbers between two (inclusive) bounds. "
   ]
  },
  {
   "cell_type": "code",
   "execution_count": 9,
   "id": "elegant-swimming",
   "metadata": {},
   "outputs": [
    {
     "data": {
      "image/png": "[encoded data removed]",
      "text/plain": [
       "<Figure size 432x288 with 1 Axes>"
      ]
     },
     "metadata": {
      "needs_background": "light"
     },
     "output_type": "display_data"
    },
    {
     "data": {
      "image/png": "[encoded data removed]",
      "text/plain": [
       "<Figure size 432x288 with 1 Axes>"
      ]
     },
     "metadata": {
      "needs_background": "light"
     },
     "output_type": "display_data"
    }
   ],
   "source": [
    "# To plot a curve through the points (1,2), (2,3), (3,7), (4,8) we would use: \n",
    "plt.plot([1,2,3,4], [2,3,7,8])\n",
    "plt.title('A Sequence of Straight Lines')\n",
    "plt.xlabel(\"The X Values\")\n",
    "plt.ylabel(\"The Y Values\")\n",
    "plt.show()\n",
    "\n",
    "X = np.linspace(0,2*np.pi,100)            # returns a list of 100 equally-spaced values in the range [0..2*pi]\n",
    "Y = [ np.sin(x) for x in X ] \n",
    "plt.plot(X,Y)\n",
    "plt.title('A Smooth-Looking Curve')\n",
    "plt.xlabel(\"The X Values\")\n",
    "plt.ylabel(\"The Y Values\")\n",
    "plt.show()\n"
   ]
  },
  {
   "cell_type": "code",
   "execution_count": 10,
   "id": "single-cream",
   "metadata": {},
   "outputs": [
    {
     "data": {
      "image/png": "[encoded data removed]",
      "text/plain": [
       "<Figure size 432x288 with 1 Axes>"
      ]
     },
     "metadata": {
      "needs_background": "light"
     },
     "output_type": "display_data"
    }
   ],
   "source": [
    "# If you want to do both, you can simply call both function\n",
    "plt.plot([1,2,3,4], [2,3,7,8])\n",
    "plt.scatter([1,2,3,4], [2,3,7,8])\n",
    "plt.title('A Curve Through Some Points, Showing the Points')\n",
    "plt.xlabel(\"The X Values\")\n",
    "plt.ylabel(\"The Y Values\")\n",
    "plt.show()"
   ]
  },
  {
   "cell_type": "markdown",
   "id": "limited-indiana",
   "metadata": {},
   "source": [
    "# Using the Numpy Random Library\n",
    "\n",
    "We have imported a number of functions from the Numpy Random library, which are explained in detail in the `NumpyTutorial.ipynb` notebook on the class web page. For more information, look \n",
    " [here](https://docs.scipy.org/doc/numpy/user/quickstart.html). "
   ]
  },
  {
   "cell_type": "code",
   "execution_count": 17,
   "id": "incoming-virus",
   "metadata": {},
   "outputs": [
    {
     "data": {
      "text/plain": [
       "0.8835672106156524"
      ]
     },
     "execution_count": 17,
     "metadata": {},
     "output_type": "execute_result"
    }
   ],
   "source": [
    "# Run this cell several times and and see what happens\n",
    "# call the random function from inside numpy's random module\n",
    "np.random.random()"
   ]
  },
  {
   "cell_type": "code",
   "execution_count": 42,
   "id": "expected-cleaners",
   "metadata": {},
   "outputs": [
    {
     "data": {
      "text/plain": [
       "[0.925596638292661,\n",
       " 0.07103605819788694,\n",
       " 0.08712929970154071,\n",
       " 0.02021839744032572,\n",
       " 0.832619845547938,\n",
       " 0.7781567509498505,\n",
       " 0.8700121482468192,\n",
       " 0.978618342232764,\n",
       " 0.7991585642167236,\n",
       " 0.46147936225293185]"
      ]
     },
     "execution_count": 42,
     "metadata": {},
     "output_type": "execute_result"
    }
   ],
   "source": [
    "# Run this cell several times and and see what happens\n",
    "# List comprehensions are your best friend, learn how to use them!!!\n",
    "\n",
    "size = 10\n",
    "rands = [ random() for k in range(size) ]\n",
    "rands"
   ]
  },
  {
   "cell_type": "code",
   "execution_count": 43,
   "id": "stupid-stylus",
   "metadata": {},
   "outputs": [
    {
     "data": {
      "text/plain": [
       "array([0.78052918, 0.11827443, 0.63992102, 0.14335329])"
      ]
     },
     "execution_count": 43,
     "metadata": {},
     "output_type": "execute_result"
    }
   ],
   "source": [
    "# Run this cell several times and and see what happens!\n",
    "# This produces a Numpy 1D vector, which is\n",
    "# another way to store a sequence.\n",
    "\n",
    "size = 4\n",
    "random(size)"
   ]
  },
  {
   "cell_type": "code",
   "execution_count": 44,
   "id": "packed-selling",
   "metadata": {},
   "outputs": [
    {
     "name": "stdout",
     "output_type": "stream",
     "text": [
      "[0.94466892 0.52184832 0.41466194 0.26455561] [0.9446689170495839, 0.5218483217500717, 0.4146619399905236, 0.26455561210462697] [0.94466892 0.52184832 0.41466194 0.26455561]\n"
     ]
    }
   ],
   "source": [
    "# In most cases, arrays are preferable to lists, but if you ever need a python list, you can convert it as such \n",
    "np_array = random(size)\n",
    "py_list = list(np_array)\n",
    "np_array1 = np.array(py_list)\n",
    "print(np_array, py_list, np_array1)"
   ]
  },
  {
   "cell_type": "markdown",
   "id": "sacred-crest",
   "metadata": {},
   "source": [
    "In order to make grading easier, we will \"seed\" the random number generation so that it always produces the same pseudo-random sequence. However, you should generally try running your code several times without the seed, trying it on various random sequences. \n",
    "\n",
    "- Note: Just be sure to include the seed before running your program to submit, so that the graders can see your correct results.\n"
   ]
  },
  {
   "cell_type": "code",
   "execution_count": 45,
   "id": "matched-demand",
   "metadata": {},
   "outputs": [
    {
     "data": {
      "text/plain": [
       "array([0.5488135 , 0.71518937, 0.60276338, 0.54488318, 0.4236548 ])"
      ]
     },
     "execution_count": 45,
     "metadata": {},
     "output_type": "execute_result"
    }
   ],
   "source": [
    "# Run this cell several times, and see what happens.\n",
    "# Then comment out the line and run it again several times. You should see that it does not change if the seed \n",
    "# is specified. It is usual to seed the random number generator with 0. \n",
    "\n",
    "seed(0)                   # to comment out this line, put at # at the beginning:    #seed(0)\n",
    "random(5)"
   ]
  },
  {
   "cell_type": "markdown",
   "id": "french-level",
   "metadata": {},
   "source": [
    "Numpy arrays allow you to perform operaions in a vecorized fasion, which takes advantage of multiple cores in a CPU allowing for paraliezation of operations. "
   ]
  },
  {
   "cell_type": "markdown",
   "id": "fitting-hughes",
   "metadata": {},
   "source": [
    "### TODO (no credit, but don't skip this)\n",
    "\n",
    "Suppose you want 10 random floating-point numbers in the range $[0 .. 100]$ instead of $[0..1]$?\n",
    "\n",
    "In the next cell, write the code that would produce a list of 10 such numbers. \n"
   ]
  },
  {
   "cell_type": "code",
   "execution_count": 46,
   "id": "wireless-greeting",
   "metadata": {},
   "outputs": [
    {
     "name": "stdout",
     "output_type": "stream",
     "text": [
      "[64.58941130666561, 43.75872112626925, 89.17730007820798, 96.36627605010293] [38.34415188 79.17250381 52.88949198 56.80445611]\n"
     ]
    }
   ],
   "source": [
    "size = 4\n",
    "sumrands_LC = [ random() * 100 for k in range(size) ]\n",
    "sumrands_vec = 100 * random(size)\n",
    "print(sumrands_LC, sumrands_vec)\n"
   ]
  },
  {
   "cell_type": "markdown",
   "id": "irish-novel",
   "metadata": {},
   "source": [
    "# BEGIN PROBLEMS\n",
    "\n",
    "# Problem 0 (Plotting Points)\n",
    "\n",
    "## Part A\n",
    "\n",
    "One of our standard examples in lecture will be a \"spinner\" which can be set in motion to\n",
    "randomly chose a real number in the half-open interval `[0..1)`\n",
    "\n",
    "\n",
    "\n",
    "We will simulate this using the Python function `random()` from the Numpy.random library we imported above.\n",
    "\n",
    "\n",
    "Use `numpy`'s `random()` function to build a list `x_vals` with the following properties: \n",
    "  - The `x_vals` list should have length `num_trials`\n",
    "  - Each value in `x_vals` should be a random float in the range $[0..1)$\n",
    "  \n",
    "Now plot the points $(x_i,0)$ along the X-axis in the diagram below\n"
   ]
  },
  {
   "cell_type": "code",
   "execution_count": 99,
   "id": "correct-joshua",
   "metadata": {},
   "outputs": [
    {
     "data": {
      "image/png": "[encoded data removed]",
      "text/plain": [
       "<Figure size 864x288 with 1 Axes>"
      ]
     },
     "metadata": {
      "needs_background": "light"
     },
     "output_type": "display_data"
    }
   ],
   "source": [
    "# TO DO:  Complete the lines of code indicated above. Then comment out the <code>seed(0)</code> \n",
    "# statement and run this cell several times to see the distribution of points;\n",
    "# put the seed command back in before you submit!\n",
    "\n",
    "def random_line_plot(num_trials):\n",
    "    x_vals = [] # <---  Your code here\n",
    "    y_vals =  []          # <---  Your code here\n",
    "    plt.figure(figsize=(12, 4))\n",
    "    plt.title('Graph of Uniform Distribution of '+str(num_trials)+' points in 1D.',fontsize=12)\n",
    "    plt.grid(color='0.95')\n",
    "    plt.ylim(-0.2, 0.2)\n",
    "    plt.xlim(-0.0,1.0)\n",
    "    plt.plot([0,1.0],[0,0])\n",
    "    plt.scatter(x_vals, y_vals, marker=\"x\",color=\"r\")\n",
    "    plt.show()\n",
    "\n",
    "\n",
    "seed(0)              # Try this with and without the seed, to see the effect; include the seed 0 when submitting!\n",
    "random_line_plot(75)"
   ]
  },
  {
   "cell_type": "markdown",
   "id": "metric-weekend",
   "metadata": {},
   "source": [
    "## Part B\n",
    "\n",
    "Now we will simulate the experiment of throwing a dart at a unit square, which will produce a scatter plot of random points in a 2D grid. This should look familiar: we examined such a data visualization in the last lecture!\n",
    "\n",
    "Use `numpy`'s `random` function to build a list of x and y values with the following properties: \n",
    "   - `x_vals` and `y_vals` should both have length `num_trials`\n",
    "   - Each value in x and y should be in the range $[0..1)$.  \n",
    "   \n",
    "HINT: use the same code to build `x_vals` and `y_vals`. \n",
    "   "
   ]
  },
  {
   "cell_type": "code",
   "execution_count": 100,
   "id": "identified-findings",
   "metadata": {},
   "outputs": [
    {
     "data": {
      "image/png": "[encoded data removed]",
      "text/plain": [
       "<Figure size 720x720 with 1 Axes>"
      ]
     },
     "metadata": {
      "needs_background": "light"
     },
     "output_type": "display_data"
    }
   ],
   "source": [
    "# TO DO:  Complete the following function stub which will produce a scatter plot of \n",
    "#         random points in a unit square. \n",
    "\n",
    "def random_plane_plot(num_trials):\n",
    "    x_vals = []              # Your code here\n",
    "    y_vals = []             # Your code here\n",
    "    plt.figure(num=None, figsize=(10, 10))\n",
    "    plt.title('Graph of Uniform Distribution of '+str(num_trials)+' points in 2D.',fontsize=12)\n",
    "    plt.grid(color='0.95')\n",
    "    plt.ylim(0, 1)\n",
    "    plt.xlim(0,1)\n",
    "    plt.scatter(x_vals, y_vals,marker=\"o\",color=\"r\")\n",
    "    plt.show()\n",
    "\n",
    "    \n",
    "# Comment out the next line and run this cell several times to see the distribution of points;\n",
    "# put the seed command back in before you submit!\n",
    "\n",
    "# Then try generating 300, and  then 3000 points!  Submit your solution with 3000 points. \n",
    "\n",
    "seed(0)\n",
    "random_plane_plot(3000)"
   ]
  },
  {
   "cell_type": "markdown",
   "id": "weekly-latest",
   "metadata": {},
   "source": [
    "END OF PROBLEM 0"
   ]
  },
  {
   "cell_type": "markdown",
   "id": "patient-million",
   "metadata": {},
   "source": [
    "# Bar Charts\n",
    "\n",
    "If we do the exact same thing as we did with a simple plot, but use the function <code>bar(...)</code> we get a bar chart:"
   ]
  },
  {
   "cell_type": "code",
   "execution_count": 57,
   "id": "cardiac-zoning",
   "metadata": {},
   "outputs": [
    {
     "data": {
      "image/png": "[encoded data removed]",
      "text/plain": [
       "<Figure size 576x432 with 1 Axes>"
      ]
     },
     "metadata": {
      "needs_background": "light"
     },
     "output_type": "display_data"
    }
   ],
   "source": [
    "# To plot the points (1,2), (2,4), (3,6), (4,8) we would list the x values and the corresponding y values:\n",
    "plt.figure(figsize=(8, 6))\n",
    "plt.bar([1,2,3,4], [2,4,6,8])\n",
    "plt.title('A Bar Chart')\n",
    "plt.xlabel(\"Number\")\n",
    "plt.ylabel(\"Frequency\")\n",
    "plt.show()"
   ]
  },
  {
   "cell_type": "code",
   "execution_count": 58,
   "id": "fourth-juice",
   "metadata": {},
   "outputs": [
    {
     "data": {
      "image/png": "[encoded data removed]",
      "text/plain": [
       "<Figure size 576x432 with 1 Axes>"
      ]
     },
     "metadata": {
      "needs_background": "light"
     },
     "output_type": "display_data"
    }
   ],
   "source": [
    "#If the Y axis is probabilities (in the range 0 .. 1), we get a distribution of the probabilities among the outcomes of an experiment:\n",
    "# Show the distribution of probabilities for flipping two dice\n",
    "x = [k for k in range(2,13)]\n",
    "y = [1/36,2/36,3/36,4/36,5/36,6/36,5/36,4/36,3/36,2/36,1/36]\n",
    "\n",
    "plt.figure(num=None, figsize=(8, 6))\n",
    "plt.bar(x,y, width=1.0,edgecolor='black')\n",
    "plt.title('Probability Distribution for Tossing Two Dice')\n",
    "plt.ylabel(\"Probability\")\n",
    "plt.xlabel(\"Outcomes\")\n",
    "plt.show()"
   ]
  },
  {
   "cell_type": "markdown",
   "id": "seventh-surge",
   "metadata": {},
   "source": [
    "### TODO (no credit, but don't skip this)\n",
    "\n",
    "Notice the line starting `plt.figure( ... )`.  Try changing the numbers for the `figsize` and see what happens.\n",
    "Which one is the width and which is the height?"
   ]
  },
  {
   "cell_type": "markdown",
   "id": "revolutionary-string",
   "metadata": {},
   "source": [
    "# Histograms\n",
    "\n",
    "A histogram is a visualization of the frequency (the count) of various outcomes from an experiment or a process. The X-axis\n",
    "gives the outcomes, and the Y-axis gives the frequency (count) of each outcome. \n",
    "\n",
    "\n",
    "- If you give a list of values to `hist(...)` it will create a histogram counting how many of each value occur; this list can be unordered;\n",
    "- You will get a cleaner display if you specify where the edges of the bins are, and make sure the edges of the bins are visible, as shown in this example:"
   ]
  },
  {
   "cell_type": "code",
   "execution_count": 59,
   "id": "ambient-branch",
   "metadata": {},
   "outputs": [
    {
     "data": {
      "image/png": "[encoded data removed]",
      "text/plain": [
       "<Figure size 576x432 with 1 Axes>"
      ]
     },
     "metadata": {
      "needs_background": "light"
     },
     "output_type": "display_data"
    }
   ],
   "source": [
    "plt.figure(num=None, figsize=(8, 6))\n",
    "plt.hist([1,2,4,2,6,2,4,5,6,4,6,3,4,3],bins=[0.5,1.5,2.5,3.5,4.5,5.6,6.5],edgecolor='black')\n",
    "plt.title('Sample Histogram')\n",
    "plt.xlabel(\"Outcomes\")\n",
    "plt.ylabel(\"Frequency\")\n",
    "plt.show()"
   ]
  },
  {
   "cell_type": "markdown",
   "id": "quiet-albany",
   "metadata": {},
   "source": [
    "# Problem 2: Displaying the results of a random experiment using histograms\n",
    "Read and understand the function `dieRoll(num_trials)` below, which simulates the experiment of rolling a fair, six-sided die `num_trials` times. \n",
    "- The outcomes are $\\Omega = \\{1,2,3,4,5,6\\}$ (we will call this the *sample space*-- i.e.: the universe of possible outcomes.  \n",
    "- The probability function is  equiprobable.\n",
    "    - I.e., for 6 possible outcoimes, the probability of any given outcome is $\\frac{1}{6}$.\n",
    "- If we record the outcome for a large number of experiments, we would expect the number of outcomes to be \"equiprobable\". In other words, for a large number of trials, we would expect the probability of each outcome $k\\in \\{1,2,3,4,5,6\\}$ to be\n",
    "\n",
    "- let $n$ be the number of trials \n",
    "- let $A_k$ be the event that we observed outcome $k\\in\\Omega$\n",
    "- Let $O_k$ be the number of times we observed outcome $k\\in\\Omega$ after running $n$ experiments\n",
    "Then \n",
    "$$Pr[A_k] \\approx \\frac{\\text{ O} k}{n} \\approx \\frac{1}{6}$$ \n",
    "This approach makes use of the frequentist interpretation of probability\n",
    "\n",
    "First, we will learn how to generate random integer values. "
   ]
  },
  {
   "cell_type": "code",
   "execution_count": 61,
   "id": "eastern-planner",
   "metadata": {},
   "outputs": [
    {
     "data": {
      "text/plain": [
       "3"
      ]
     },
     "execution_count": 61,
     "metadata": {},
     "output_type": "execute_result"
    }
   ],
   "source": [
    "# Demo of randint(lo,hi), which generates a random integer from the sequence \n",
    "# [lo,lo+1,...,hi-1].  Note carefully that the lower bound is inclusive and the upper bound is non-exclusive, just\n",
    "# like the range(...)  function in Python. \n",
    "\n",
    "# Run this cell a few times!\n",
    "\n",
    "randint(0,4)"
   ]
  },
  {
   "cell_type": "code",
   "execution_count": 63,
   "id": "whole-rochester",
   "metadata": {},
   "outputs": [
    {
     "data": {
      "text/plain": [
       "array([0, 3, 0, 0, 1, 1, 0, 3, 0, 0])"
      ]
     },
     "execution_count": 63,
     "metadata": {},
     "output_type": "execute_result"
    }
   ],
   "source": [
    "# You can also ask it for an array of a given size, since it is a Numpy function:\n",
    "# note that this creates a value in {0,1,2,3} ... the range is not inclusive \n",
    "randint(0,4,10)"
   ]
  },
  {
   "cell_type": "code",
   "execution_count": 64,
   "id": "damaged-bulgarian",
   "metadata": {},
   "outputs": [],
   "source": [
    "\n",
    "# Ok, your turn!\n",
    "\n",
    "# Write a function which simulates rolling a fair die num_trials times, i.e., a number is selected from \n",
    "# (1,2,3,4,5,6) with equal probability num_trials times. By default, num_trials is set to 100000.\n",
    "\n",
    "\n",
    "\n",
    "seed(0)\n",
    "\n",
    "def roll_die(num_trials = 10000):          # Notice the use of a default value for the parameter here\n",
    "\n",
    "    trials_and_results = randint(1,7,num_trials) # this creates a 1D array of length num_trials of random integers 1..6\n",
    "    return trials_and_results\n",
    "\n",
    "example_trials = roll_die()"
   ]
  },
  {
   "cell_type": "markdown",
   "id": "placed-queue",
   "metadata": {},
   "source": [
    "## Counting the frequency of an outcome using a Python dictionary\n",
    "\n",
    "A dictionary is a data structures which stores (key,value) pairs (typically implemented as a hash table).\n",
    "This is a great data structure for storing information about objects without having to muck around with lists.\n"
   ]
  },
  {
   "cell_type": "code",
   "execution_count": 69,
   "id": "finite-afghanistan",
   "metadata": {},
   "outputs": [
    {
     "name": "stdout",
     "output_type": "stream",
     "text": [
      "{'a': 2, 'c': 8, 'b': 1}\n",
      "2\n"
     ]
    }
   ],
   "source": [
    "D = { 'a' : 2, 'c' : 8, 'b' : 1}      # Dictionary storing, say, how many times a letter appears in a string\n",
    "print(D)\n",
    "print(D['a'])"
   ]
  },
  {
   "cell_type": "markdown",
   "id": "industrial-tractor",
   "metadata": {},
   "source": [
    "The `Counter` function creates a dictionary of frequency counts from a list of outcomes.\n",
    "\n",
    "- Technically it is not actually a dictionay, but has the same interface as one. It is also easy to convert to a dictionary if need be"
   ]
  },
  {
   "cell_type": "code",
   "execution_count": 73,
   "id": "dressed-debate",
   "metadata": {},
   "outputs": [
    {
     "name": "stdout",
     "output_type": "stream",
     "text": [
      "Counter creates a dictionary giving the frequency counts of each element in the list:\n",
      "Counter({3: 5, 4: 5, 2: 2, 5: 2, 8: 1})\n",
      "\n",
      "The list has 5 instances of the number 3.\n",
      "2 2\n",
      "3 5\n",
      "4 5\n",
      "5 2\n",
      "8 1\n"
     ]
    }
   ],
   "source": [
    "### Calculating frequency counts using a dictionary\n",
    "\n",
    "#from collections import Counter        <- this was imported in the first code cell\n",
    "\n",
    "F = Counter([3,4,2,3,4,5,4,3,2,3,4,5,4,3,8])\n",
    "\n",
    "print(\"Counter creates a dictionary giving the frequency counts of each element in the list:\")\n",
    "print(F)\n",
    "\n",
    "print()\n",
    "\n",
    "n = 3\n",
    "print(\"The list has\",F[n], 'instances of the number '+ str(n) + '.')\n",
    "for key in sorted(F.keys()):\n",
    "    print(key, F[key])\n"
   ]
  },
  {
   "cell_type": "markdown",
   "id": "double-johnson",
   "metadata": {},
   "source": [
    "Next, provide code in the next cell which will show the result of this using matplotlib's `bar` function called by using `plt.hist(...)` and  `Conter`"
   ]
  },
  {
   "cell_type": "code",
   "execution_count": 74,
   "id": "parental-township",
   "metadata": {},
   "outputs": [
    {
     "data": {
      "image/png": "[encoded data removed]",
      "text/plain": [
       "<Figure size 432x288 with 1 Axes>"
      ]
     },
     "metadata": {
      "needs_background": "light"
     },
     "output_type": "display_data"
    }
   ],
   "source": [
    "# Solution:\n",
    "trial_counter = Counter(example_trials)\n",
    "x_vals = sorted(trial_counter.keys())\n",
    "y_vals = [trial_counter[i] for i in x_vals]\n",
    "plt.bar(x_vals, y_vals ,edgecolor='black')\n",
    "plt.title('Histogram of Die Roll Experiment, 10,000 Trials')\n",
    "plt.xlabel(\"Outcomes\")\n",
    "plt.ylabel(\"Frequency\")\n",
    "plt.show()\n"
   ]
  },
  {
   "cell_type": "markdown",
   "id": "artificial-glenn",
   "metadata": {},
   "source": [
    "# Problem 2: Displaying the distribution of random outcomes\n",
    "\n",
    "Now we will display the same results as in Problem 2, but showing the distribution of probabilities, instead of an explicit histogram. The only important difference in the data visualization is that the Y-axis gives the probability instead of the frequency count. Essentially, you have to divide each frequency count by the total number of outcomes involved. \n",
    "\n",
    "You will use the function `bar(...)` demonstrated above, after using Counter to find the frequency counts explicitly. Then you simply divide by the total number of outcomes to get the probability.  \n",
    "\n",
    "TO DO:  Complete the function stub below which takes the list returned by `roll_die(...)`, or any other experiment returning numerical results, and produces a frequency distribution; this should have the same shape as the histogram, but the Y axis will be probabilities instead of the frequency. Again, create appropriate labels. Demonstrate your function, again, on the list `example_trials` produced in Problem 2. "
   ]
  },
  {
   "cell_type": "code",
   "execution_count": 101,
   "id": "conservative-biotechnology",
   "metadata": {},
   "outputs": [
    {
     "data": {
      "image/png": "[encoded data removed]",
      "text/plain": [
       "<Figure size 432x288 with 1 Axes>"
      ]
     },
     "metadata": {
      "needs_background": "light"
     },
     "output_type": "display_data"
    }
   ],
   "source": [
    "seed(0)\n",
    "\n",
    "# Solution \n",
    "def show_distribution(outcomes, title='Probability Distribution'):\n",
    "    \n",
    "    x_vals = []\n",
    "    y_vals = []\n",
    "    \n",
    "    \n",
    "    plt.bar(x_vals,y_vals,width=1.0,edgecolor='black')\n",
    "    plt.xlabel(\"Outcomes\")\n",
    "    plt.ylabel(\"Probability\")\n",
    "    plt.title(title)\n",
    "    plt.show()\n",
    "\n",
    "#example_trials = [1,2,3,4,5,6,6]    # for testing\n",
    "\n",
    "show_distribution(example_trials,title='Probability Distribution for Single Die Toss')\n",
    "  "
   ]
  },
  {
   "cell_type": "markdown",
   "id": "ordinary-curve",
   "metadata": {},
   "source": [
    "# Motivation for Monte Carlo simulation\n",
    "For the case of a fair die, the distribution is very easily computed. In general, it is very difficult to write down a closed form solution for the distribution of real world events. This is where simulation comes into play-- instead of  mathematically computing the distribution explicitly, you can use this method of repeating experiments, and recording outcomes to understand the probabilistic rules governing some real world event. When you can come up with an analytical result, this is a nice way of confirming its correctness!"
   ]
  },
  {
   "cell_type": "markdown",
   "id": "requested-impossible",
   "metadata": {},
   "source": [
    "# Problem 3\n",
    "You will now do the same thing you did in the previous problems, but with a new experiment: instead of rolling one die and recording the value, you will simulate rolling $n$ dies and recording their sum. For example, if $n=2$ and  the first die shows up as a 3, and the second die shows up as a 1, the sum (and the outcome we store) would be 4. \n",
    "\n",
    "TO DO:  Complete the function stub below and then demonstrate by providing the single line of code which would print out the probability distribution for rolling 2 dice 100,000 times. \n",
    "\n",
    "- Hint: Not required, but think about how you might do this in one line using either Numpy vectorization and/or with  list comprehensions. \n",
    "- Hint: You can perform the experiment with a single line of python taking advantage of the fact that you can create multi-dimensional numpy arrays"
   ]
  },
  {
   "cell_type": "code",
   "execution_count": 102,
   "id": "defensive-exhaust",
   "metadata": {},
   "outputs": [
    {
     "data": {
      "image/png": "[encoded data removed]",
      "text/plain": [
       "<Figure size 432x288 with 1 Axes>"
      ]
     },
     "metadata": {
      "needs_background": "light"
     },
     "output_type": "display_data"
    }
   ],
   "source": [
    "# Perform the experiment using the following function. \n",
    "# randint(a,b) uniformly and randomly selects an  integer x such that a<= x < b\n",
    "# The second argument determins the shape of the result. In this case, we only need\n",
    "# a one dimensional array (a list)\n",
    "\n",
    "    \n",
    "seed(0)\n",
    "    \n",
    "# Solution\n",
    "def roll_and_add_dice(num_dice, num_trials = 10**5):\n",
    "    return []\n",
    "\n",
    "show_distribution(roll_and_add_dice(2),title='Probability Distribution for Sum of Two Dice')\n",
    "\n"
   ]
  },
  {
   "cell_type": "code",
   "execution_count": 103,
   "id": "dying-advance",
   "metadata": {},
   "outputs": [
    {
     "data": {
      "text/plain": [
       "array([22, 20, 16, 18, 16, 17, 16, 24, 21, 15, 15, 19, 14, 12, 13, 11, 17,\n",
       "       15, 21, 13, 22, 13, 17, 17, 18, 10, 18, 22, 11, 18, 20, 16, 13, 12,\n",
       "       25, 17, 20, 11, 15, 20, 20, 16, 15, 18, 13, 17, 14, 13, 16, 11, 18,\n",
       "       16, 24, 23, 12, 19, 18, 24, 15, 17, 17, 13,  8, 14, 18, 11, 24, 19,\n",
       "       18, 16, 19, 23, 20, 21, 23, 16, 18, 15, 20, 16, 18, 14, 18, 24, 21,\n",
       "       10, 16, 21, 13, 22, 28, 21, 14, 16, 14, 18, 20, 17, 17, 19])"
      ]
     },
     "execution_count": 103,
     "metadata": {},
     "output_type": "execute_result"
    }
   ],
   "source": [
    "randint(1,7,(5,100)).sum(axis=0)"
   ]
  },
  {
   "cell_type": "code",
   "execution_count": 104,
   "id": "lightweight-clarity",
   "metadata": {},
   "outputs": [
    {
     "data": {
      "text/plain": [
       "array([ 9,  6,  4, ...,  5, 11,  6])"
      ]
     },
     "execution_count": 104,
     "metadata": {},
     "output_type": "execute_result"
    }
   ],
   "source": [
    "num_dice =  2\n",
    "num_trials = 100000\n",
    "randint(1,7,(num_dice,num_trials)).sum(axis=0)"
   ]
  },
  {
   "cell_type": "markdown",
   "id": "hired-forestry",
   "metadata": {},
   "source": [
    "# Problem 5 (Monte Carlo Calculation of $\\pi$)\n",
    "\n",
    "This final problem is also a Monte Carlo simulation, but this time in\n",
    "the continuous domain: we will calculate the value of $\\pi$ using\n",
    "a variation of Problem 1B. \n",
    "\n",
    "We will leave this one up to you as it the exact details, but you must\n",
    "use the following fact: a circle inscribed in a unit square (i.e., with\n",
    "side of length and area 1.0):\n",
    "\n",
    "\n",
    "has as radius of 0.5 and an area of $\\pi\\ast (0.5^2) = \\frac{\\pi}{4}.$\n",
    "\n",
    "Therefore, if you generate <code>num_trials</code> random points in the unit square, as in Problem 1B,\n",
    "and count how many land inside the circle, you can calculate an approximation of $\\pi$. \n",
    "\n",
    "For this problem, you must\n",
    "<blockquote>\n",
    "\n",
    "  (A) Draw the diagram of the unit square with inscribed circle, and then draw 500 random points, and calculate the value of $\\pi$;  \n",
    "  \n",
    "  (B) Without drawing the diagram, calculate the value of $\\pi$ you would get\n",
    "    from $10^5$ trials. \n",
    "    \n",
    "[Optional!]  After completing (B), try to get a more accurate value for $\\pi$ by increasing the number of trials. Your results will depend on your machine and you might need to optimize your code to account for large trial numbers \n",
    "  \n",
    "</blockquote>    \n",
    "Hint: Start by copying your code from Problem 1B. You might find Mr. Pythagoras's formula useful.  \n",
    "To draw the inscribed circle, consider the code from \"A Smooth-Looking Curve\" at the top of\n",
    "this notebook: create a sequence of values (representing the angle theta in radians):\n",
    "<blockquote>\n",
    "    <code>thetas = np.linspace(0, 2*np.pi, 100)</code>\n",
    "</blockquote>\n",
    " Then to create the x and y values for the points around the circle, you can use\n",
    " the np.sin(...) and np.cos(...) functions, following the typical diagram \n",
    " about unit circles and trig functions:\n",
    " \n",
    "\n",
    " \n",
    " \n",
    " (see https://www.mathsisfun.com/geometry/unit-circle.html for more explanation). "
   ]
  },
  {
   "cell_type": "code",
   "execution_count": 107,
   "id": "considerable-senate",
   "metadata": {},
   "outputs": [
    {
     "data": {
      "image/png": "[encoded data removed]",
      "text/plain": [
       "<Figure size 720x720 with 1 Axes>"
      ]
     },
     "metadata": {
      "needs_background": "light"
     },
     "output_type": "display_data"
    },
    {
     "name": "stdout",
     "output_type": "stream",
     "text": [
      "Pi = 0.0\n"
     ]
    }
   ],
   "source": [
    "# (A)\n",
    "\n",
    "def inside(x,y):\n",
    "    \"\"\"\n",
    "    Returns true if the value of x is inside of the circle\n",
    "    \"\"\"\n",
    "    return ((x-0.5)**2+(y-0.5)**2)**0.5 < 0.5\n",
    "\n",
    "seed(0)\n",
    "\n",
    "num_trials = 500\n",
    "\n",
    "# random pairs of numbers\n",
    "x_vals = [ 0 for i in range(num_trials) ]  # changeme\n",
    "y_vals = [ 0 for i in range(num_trials)]  # change me\n",
    "\n",
    "# draw the circle using polar coordinates\n",
    "x_angles = np.linspace(0,2*np.pi,100)            # returns a list of 100 equally-spaced values in the range [1..20]\n",
    "# plotting a corcle \n",
    "X = [(np.sin(x)/2+0.5) for x in x_angles]\n",
    "Y = [(np.cos(x)/2+0.5) for x in x_angles]\n",
    "\n",
    "\n",
    "plt.figure(num=None, figsize=(10, 10))\n",
    "plt.title('Graph of Uniform Distribution of '+str(num_trials)+' points in 2D.',fontsize=12)\n",
    "plt.grid(color='0.95')\n",
    "plt.ylim(0, 1)\n",
    "plt.xlim(0,1)\n",
    "plt.scatter(x_vals, y_vals,marker=\"x\",color=\"r\")\n",
    "plt.plot(X,Y)\n",
    "count = 0\n",
    "for k in range(num_trials):\n",
    "    if inside(x_vals[k],y_vals[k]):\n",
    "        count += 1\n",
    "plt.show()\n",
    "\n",
    "print(\"Pi = \" + str(4*count/num_trials))"
   ]
  },
  {
   "cell_type": "code",
   "execution_count": 97,
   "id": "awful-slave",
   "metadata": {},
   "outputs": [
    {
     "name": "stdout",
     "output_type": "stream",
     "text": [
      "10 2.8\n",
      "100 3.32\n",
      "1000 3.032\n",
      "10000 3.1544\n",
      "100000 3.13228\n",
      "1000000 3.142204\n"
     ]
    }
   ],
   "source": [
    "# (B)\n",
    "\n",
    "#Solution that does not draw the diagram...\n",
    "\n",
    "seed(0)     # this will ensure that your results will be consistent with my solution and everyone else's\n",
    "\n",
    "def find_pi(num_trials):\n",
    "    num_inside = 0\n",
    "    for k in range(num_trials):\n",
    "        x = random()\n",
    "        y = random()\n",
    "        if ((x**2 + y**2) ** 0.5 <= 1.0):\n",
    "            num_inside += 1\n",
    "    return 4.0*num_inside / num_trials\n",
    "\n",
    "for k in range(1,7):\n",
    "    num_trials = 10**k\n",
    "    print(num_trials, find_pi(num_trials))"
   ]
  },
  {
   "cell_type": "code",
   "execution_count": null,
   "id": "stone-earth",
   "metadata": {},
   "outputs": [],
   "source": []
  }
 ],
 "metadata": {
  "kernelspec": {
   "display_name": "cs237",
   "language": "python",
   "name": "cs237"
  },
  "language_info": {
   "codemirror_mode": {
    "name": "ipython",
    "version": 3
   },
   "file_extension": ".py",
   "mimetype": "text/x-python",
   "name": "python",
   "nbconvert_exporter": "python",
   "pygments_lexer": "ipython3",
   "version": "3.9.5"
  }
 },
 "nbformat": 4,
 "nbformat_minor": 5
}
